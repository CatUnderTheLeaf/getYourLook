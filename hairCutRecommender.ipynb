{
 "cells": [
  {
   "cell_type": "markdown",
   "metadata": {},
   "source": [
    "### heart\n",
    "When considering what works best with a heart-shaped face, Rosenkranz recommends \"hairstyles that create width through the jawline with fullness and width through the nape to balance the shape of the face.\" This includes side-swept bangs, brow-grazing fringes, pixie cuts, long layers, and \"wearing hair forward around the face.\" Also, try to \"avoid styles that accentuate the width of the forehead or cheekbones,\" he adds.\n",
    "Heart-shaped faces look best with blunt bangs and wavy layers or a chin-length bob with bangs. Soft angles in the front that start below the face help balance out the forehead, Pollack says. The key, according to Papanikolas, is to keep bangs narrow so that you can create the illusion of less width at the top.\n",
    "\n",
    "### square\n",
    "If your face shape falls into the square category, \"Hairstyles that are fuller at the sides and that soften the corners are best,\" according to Rosenkranz. Think textured shags, long layers, and side-swept bangs. As for what styles to steer clear of, Rosenkranz advises avoiding \"Enhancing the jawline further with blunt lines. Strong fringe is not recommended either.\"\n",
    "Square face shapes may consider softening the edges around the forehead and strong jawlines; if that's what you're after, wavy shags with wispy fringe, soft side-swept bangs, or long layers with fringe work best. If you want to go short, Papanikolas recommends creating softer angles.\n",
    "\n",
    "### round\n",
    "Chin-length and long bobs, soft, face-framing layers, and long bangs suit a round face. \"A hairstyle with a strong angular front and adding height will help to elongate the face,\" says Rosenkranz. On the other hand, \"Avoid over softening this already round shape and avoid creating more width on sides. This will accentuate the shape further.\" He adds, \"It's best to leave your hair down and avoid tucking it behind your ears.\" \n",
    "Pollack says round face shapes work well with a long bob, which draws the eyes down to visually lengthen the face. Papanikolas echos this, saying round faces do well with cuts that elongate, like long straight hair, long voluminous waves, shaggy bobs, and swoopy bangs with cropped sides.\n",
    "\n",
    "### oval\n",
    "The great thing about having an oval face is that this shape can work with almost any style, from an angular bob to long, beachy waves. Rosenkranz recommends choosing \"styles that will enhance your key features\" and steering clear of \"too much height on top since that can make this shape feel oblong.\"\n",
    "Oval face shapes can wear almost any style, but according to Papanikolas, the most flattering tend to be long layers, shoulder-length waves, full fringe, a layered bob, or a side-swept pixie. Pollack is partial to a strong, square bob, which brings focus to your balanced jawline. \n",
    "\n",
    "### oblong\n",
    "or those with rectangular faces, \"Creating fullness through the sides and keeping volume from the ears up is key,\" according to Rosenkranz. Soft waves, long, face-framing layers, and chin-length bobs are your best bets, whereas \"flat, straight hair with no movement and volume with no width should be avoided.\" He also notes that \"shorter hairstyles can make this shape feel masculine.\"\n",
    "Oblong/rectangular face shapes can take a similar approach to square faces: Soften the edges and strong jawlines with layers, volume, and side-swept or feathered fringe. Long layers and angles add movement and texture to the hair. \n",
    "\n",
    "### the bang styles \n",
    "the pros would recommend based on face shape:\n",
    "Oval: Blunt\n",
    "Round: Side swept\n",
    "Square: Wispy fringe\n",
    "Diamond: Side-swept fringe\n",
    "Rectangle: Side-swept with feathered fringe\n",
    "Heart: Blunt and narrow\n",
    "\n",
    "the bang styles the pros would recommend based on face shape:\n",
    "Oval: Blunt\n",
    "Round: Side swept\n",
    "Square: Wispy fringe\n",
    "Diamond: Side-swept fringe\n",
    "Rectangle: Side-swept with feathered fringe\n",
    "Heart: Blunt and narrow"
   ]
  },
  {
   "cell_type": "code",
   "execution_count": null,
   "metadata": {},
   "outputs": [],
   "source": []
  }
 ],
 "metadata": {
  "language_info": {
   "name": "python"
  }
 },
 "nbformat": 4,
 "nbformat_minor": 2
}
